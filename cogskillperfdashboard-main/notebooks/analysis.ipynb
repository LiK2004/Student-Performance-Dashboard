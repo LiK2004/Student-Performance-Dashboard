{
 "cells": [
  {
   "cell_type": "markdown",
   "metadata": {},
   "source": [
    "# Cognitive Skills & Student Performance Analysis\n",
    "\n",
    "This notebook generates a synthetic student dataset, explores correlations, builds a regression model to predict assessment scores, and clusters students into personas."
   ]
  },
  {
   "cell_type": "code",
   "execution_count": null,
   "metadata": {},
   "outputs": [],
   "source": [
    "import numpy as np\n",
    "import pandas as pd\n",
    "from sklearn.linear_model import LinearRegression\n",
    "from sklearn.cluster import KMeans\n",
    "from sklearn.metrics import r2_score\n",
    "import seaborn as sns\n",
    "import matplotlib.pyplot as plt\n",
    "\n",
    "rng = np.random.default_rng(42)\n",
    "n = 200\n",
    "first_names = ['Alex','Jordan','Taylor','Casey','Riley','Avery','Quinn','Morgan','Parker','Reese','Jamie','Rowan','Skyler','Dakota','Emerson','Finley','Harper','Jules','Kai','Logan']\n",
    "last_names = ['Smith','Johnson','Brown','Davis','Miller','Wilson','Moore','Taylor','Anderson','Thomas']\n",
    "classes = ['A','B','C','D']\n",
    "\n",
    "def clamp(x, lo=0, hi=100):\n",
    "    return np.clip(x, lo, hi)\n",
    "\n",
    "base = rng.normal(55, 15, size=n)\n",
    "comprehension = clamp(base + 20 * rng.random(n))\n",
    "attention = clamp(base + 15 * rng.normal(size=n) + 10 * rng.random(n))\n",
    "focus = clamp(base + 10 * rng.normal(size=n) + 10 * rng.random(n))\n",
    "retention = clamp((comprehension + focus) / 2 + 10 * rng.normal(size=n))\n",
    "engagement_time = clamp(60 + 20 * rng.normal(size=n) + 0.3 * attention, 0, 120)\n",
    "\n",
    "trueW = dict(comp=0.35, att=0.2, foc=0.25, ret=0.3, eng=0.05)\n",
    "noise = 8 * rng.normal(size=n)\n",
    "score_raw = (trueW['comp']*comprehension + trueW['att']*attention + trueW['foc']*focus + trueW['ret']*retention + trueW['eng']*(engagement_time/1.2) + noise)\n",
    "assessment_score = clamp(score_raw / 1.6)\n",
    "\n",
    "names = [f\"{rng.choice(first_names)} {rng.choice(last_names)}\" for _ in range(n)]\n",
    "classes_vec = [f\"Class {rng.choice(classes)}\" for _ in range(n)]\n",
    "student_id = [f\"S{1000+i}\" for i in range(n)]\n",
    "\n",
    "df = pd.DataFrame({\n",
    "    'student_id': student_id,\n",
    "    'name': names,\n",
    "    'class': classes_vec,\n",
    "    'comprehension': comprehension,\n",
    "    'attention': attention,\n",
    "    'focus': focus,\n",
    "    'retention': retention,\n",
    "    'engagement_time': engagement_time,\n",
    "    'assessment_score': assessment_score\n",
    "})\n",
    "df.head()"
   ]
  },
  {
   "cell_type": "code",
   "execution_count": null,
   "metadata": {},
   "outputs": [],
   "source": [
    "# Correlations\n",
    "corr = df[['comprehension','attention','focus','retention','engagement_time','assessment_score']].corr()['assessment_score'].sort_values(ascending=False)\n",
    "corr"
   ]
  },
  {
   "cell_type": "code",
   "execution_count": null,
   "metadata": {},
   "outputs": [],
   "source": [
    "# Regression model\n",
    "X = df[['comprehension','attention','focus','retention','engagement_time']].values\n",
    "y = df['assessment_score'].values\n",
    "reg = LinearRegression().fit(X, y)\n",
    "pred = reg.predict(X)\n",
    "r2 = r2_score(y, pred)\n",
    "reg.coef_, reg.intercept_, r2"
   ]
  },
  {
   "cell_type": "code",
   "execution_count": null,
   "metadata": {},
   "outputs": [],
   "source": [
    "# Clustering into personas\n",
    "kmeans = KMeans(n_clusters=3, n_init=10, random_state=42)\n",
    "clusters = kmeans.fit_predict(X)\n",
    "df['cluster'] = clusters\n",
    "centers = pd.DataFrame(kmeans.cluster_centers_, columns=['comprehension','attention','focus','retention','engagement_time'])\n",
    "centers"
   ]
  },
  {
   "cell_type": "code",
   "execution_count": null,
   "metadata": {},
   "outputs": [],
   "source": [
    "# Plots\n",
    "sns.set_theme(style='whitegrid')\n",
    "fig, axes = plt.subplots(1, 2, figsize=(12,4))\n",
    "sns.barplot(x=corr.index[:-1], y=corr.values[:-1], ax=axes[0])\n",
    "axes[0].set_title('Skill correlation with score')\n",
    "sns.scatterplot(data=df, x='attention', y='assessment_score', hue='cluster', palette='tab10', ax=axes[1])\n",
    "axes[1].set_title('Attention vs Performance')\n",
    "plt.tight_layout()\n",
    "plt.show()"
   ]
  }
 ],
 "metadata": {
  "kernelspec": {
   "display_name": "Python 3",
   "language": "python",
   "name": "python3"
  },
  "language_info": {
   "name": "python",
   "version": "3.10"
  }
 },
 "nbformat": 4,
 "nbformat_minor": 5
}